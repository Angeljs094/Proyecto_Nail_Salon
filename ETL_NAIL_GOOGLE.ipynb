{
 "cells": [
  {
   "cell_type": "markdown",
   "metadata": {},
   "source": [
    "# ETL GOOGLE"
   ]
  },
  {
   "cell_type": "markdown",
   "metadata": {},
   "source": [
    "# 1. Importar librerias"
   ]
  },
  {
   "cell_type": "code",
   "execution_count": 1,
   "metadata": {},
   "outputs": [],
   "source": [
    "import pandas as pd\n",
    "import numpy as np\n",
    "import os\n",
    "import requests"
   ]
  },
  {
   "cell_type": "markdown",
   "metadata": {},
   "source": [
    "# 2. Carga de Datos"
   ]
  },
  {
   "cell_type": "code",
   "execution_count": 2,
   "metadata": {},
   "outputs": [],
   "source": [
    "dfBusinessGoogle = pd.read_csv('DataSets/businessGoogle.csv')"
   ]
  },
  {
   "cell_type": "code",
   "execution_count": 3,
   "metadata": {},
   "outputs": [],
   "source": [
    "dfReviewGoogle = pd.read_csv('DataSets/reviewGoogle.csv')"
   ]
  },
  {
   "cell_type": "markdown",
   "metadata": {},
   "source": [
    "# 3. Exploracion y Limpieza de Datos"
   ]
  },
  {
   "cell_type": "markdown",
   "metadata": {},
   "source": [
    "## 3.1 Dataset Business Yelp"
   ]
  },
  {
   "cell_type": "markdown",
   "metadata": {},
   "source": [
    "### 3.1.1. Exploración inicial de los datos"
   ]
  },
  {
   "cell_type": "code",
   "execution_count": 4,
   "metadata": {},
   "outputs": [
    {
     "data": {
      "text/html": [
       "<div>\n",
       "<style scoped>\n",
       "    .dataframe tbody tr th:only-of-type {\n",
       "        vertical-align: middle;\n",
       "    }\n",
       "\n",
       "    .dataframe tbody tr th {\n",
       "        vertical-align: top;\n",
       "    }\n",
       "\n",
       "    .dataframe thead th {\n",
       "        text-align: right;\n",
       "    }\n",
       "</style>\n",
       "<table border=\"1\" class=\"dataframe\">\n",
       "  <thead>\n",
       "    <tr style=\"text-align: right;\">\n",
       "      <th></th>\n",
       "      <th>name</th>\n",
       "      <th>address</th>\n",
       "      <th>gmap_id</th>\n",
       "      <th>description</th>\n",
       "      <th>latitude</th>\n",
       "      <th>longitude</th>\n",
       "      <th>category</th>\n",
       "      <th>avg_rating</th>\n",
       "      <th>num_of_reviews</th>\n",
       "      <th>price</th>\n",
       "      <th>hours</th>\n",
       "      <th>MISC</th>\n",
       "      <th>state</th>\n",
       "      <th>relative_results</th>\n",
       "      <th>url</th>\n",
       "    </tr>\n",
       "  </thead>\n",
       "  <tbody>\n",
       "    <tr>\n",
       "      <th>0</th>\n",
       "      <td>Porter Pharmacy</td>\n",
       "      <td>Porter Pharmacy, 129 N Second St, Cochran, GA ...</td>\n",
       "      <td>0x88f16e41928ff687:0x883dad4fd048e8f8</td>\n",
       "      <td>NaN</td>\n",
       "      <td>32.388300</td>\n",
       "      <td>-83.357100</td>\n",
       "      <td>['Pharmacy']</td>\n",
       "      <td>4.9</td>\n",
       "      <td>16</td>\n",
       "      <td>NaN</td>\n",
       "      <td>[['Friday', '8AM–6PM'], ['Saturday', '8AM–12PM...</td>\n",
       "      <td>{'Service options': ['In-store shopping', 'Sam...</td>\n",
       "      <td>Open ⋅ Closes 6PM</td>\n",
       "      <td>['0x88f16e41929435cf:0x5b2532a2885e9ef6', '0x8...</td>\n",
       "      <td>https://www.google.com/maps/place//data=!4m2!3...</td>\n",
       "    </tr>\n",
       "    <tr>\n",
       "      <th>1</th>\n",
       "      <td>MemorialCare Breast Center - Irvine Sand Canyon</td>\n",
       "      <td>MemorialCare Breast Center - Irvine Sand Canyo...</td>\n",
       "      <td>0x80dcdd3b95c7284b:0x23d9b4440c982d37</td>\n",
       "      <td>NaN</td>\n",
       "      <td>33.668389</td>\n",
       "      <td>-117.765649</td>\n",
       "      <td>['Mammography service']</td>\n",
       "      <td>4.7</td>\n",
       "      <td>33</td>\n",
       "      <td>NaN</td>\n",
       "      <td>[['Tuesday', '8:30AM–5PM'], ['Wednesday', '8:3...</td>\n",
       "      <td>{'Accessibility': ['Wheelchair accessible entr...</td>\n",
       "      <td>Closed ⋅ Opens 8:30AM</td>\n",
       "      <td>['0x80dcdc4aad8cb91f:0x62bdeb79a44d7633', '0x8...</td>\n",
       "      <td>https://www.google.com/maps/place//data=!4m2!3...</td>\n",
       "    </tr>\n",
       "    <tr>\n",
       "      <th>2</th>\n",
       "      <td>U-Haul Neighborhood Dealer</td>\n",
       "      <td>U-Haul Neighborhood Dealer, 1690 E 112th Ave, ...</td>\n",
       "      <td>0x876c769e600eda1d:0xdf1fffc2e00e1fe1</td>\n",
       "      <td>NaN</td>\n",
       "      <td>39.899189</td>\n",
       "      <td>-104.966765</td>\n",
       "      <td>['Truck rental agency', 'Trailer rental servic...</td>\n",
       "      <td>3.9</td>\n",
       "      <td>18</td>\n",
       "      <td>$</td>\n",
       "      <td>NaN</td>\n",
       "      <td>NaN</td>\n",
       "      <td>NaN</td>\n",
       "      <td>['0x876c75d05d0e1bf3:0x1d2d9897d0dec9cb', '0x8...</td>\n",
       "      <td>https://www.google.com/maps/place//data=!4m2!3...</td>\n",
       "    </tr>\n",
       "  </tbody>\n",
       "</table>\n",
       "</div>"
      ],
      "text/plain": [
       "                                              name  \\\n",
       "0                                  Porter Pharmacy   \n",
       "1  MemorialCare Breast Center - Irvine Sand Canyon   \n",
       "2                       U-Haul Neighborhood Dealer   \n",
       "\n",
       "                                             address  \\\n",
       "0  Porter Pharmacy, 129 N Second St, Cochran, GA ...   \n",
       "1  MemorialCare Breast Center - Irvine Sand Canyo...   \n",
       "2  U-Haul Neighborhood Dealer, 1690 E 112th Ave, ...   \n",
       "\n",
       "                                 gmap_id description   latitude   longitude  \\\n",
       "0  0x88f16e41928ff687:0x883dad4fd048e8f8         NaN  32.388300  -83.357100   \n",
       "1  0x80dcdd3b95c7284b:0x23d9b4440c982d37         NaN  33.668389 -117.765649   \n",
       "2  0x876c769e600eda1d:0xdf1fffc2e00e1fe1         NaN  39.899189 -104.966765   \n",
       "\n",
       "                                            category  avg_rating  \\\n",
       "0                                       ['Pharmacy']         4.9   \n",
       "1                            ['Mammography service']         4.7   \n",
       "2  ['Truck rental agency', 'Trailer rental servic...         3.9   \n",
       "\n",
       "   num_of_reviews price                                              hours  \\\n",
       "0              16   NaN  [['Friday', '8AM–6PM'], ['Saturday', '8AM–12PM...   \n",
       "1              33   NaN  [['Tuesday', '8:30AM–5PM'], ['Wednesday', '8:3...   \n",
       "2              18     $                                                NaN   \n",
       "\n",
       "                                                MISC                  state  \\\n",
       "0  {'Service options': ['In-store shopping', 'Sam...      Open ⋅ Closes 6PM   \n",
       "1  {'Accessibility': ['Wheelchair accessible entr...  Closed ⋅ Opens 8:30AM   \n",
       "2                                                NaN                    NaN   \n",
       "\n",
       "                                    relative_results  \\\n",
       "0  ['0x88f16e41929435cf:0x5b2532a2885e9ef6', '0x8...   \n",
       "1  ['0x80dcdc4aad8cb91f:0x62bdeb79a44d7633', '0x8...   \n",
       "2  ['0x876c75d05d0e1bf3:0x1d2d9897d0dec9cb', '0x8...   \n",
       "\n",
       "                                                 url  \n",
       "0  https://www.google.com/maps/place//data=!4m2!3...  \n",
       "1  https://www.google.com/maps/place//data=!4m2!3...  \n",
       "2  https://www.google.com/maps/place//data=!4m2!3...  "
      ]
     },
     "execution_count": 4,
     "metadata": {},
     "output_type": "execute_result"
    }
   ],
   "source": [
    "dfBusinessGoogle.head(3)"
   ]
  },
  {
   "cell_type": "code",
   "execution_count": 5,
   "metadata": {},
   "outputs": [
    {
     "name": "stdout",
     "output_type": "stream",
     "text": [
      "<class 'pandas.core.frame.DataFrame'>\n",
      "RangeIndex: 275001 entries, 0 to 275000\n",
      "Data columns (total 15 columns):\n",
      " #   Column            Non-Null Count   Dtype  \n",
      "---  ------            --------------   -----  \n",
      " 0   name              274996 non-null  object \n",
      " 1   address           269428 non-null  object \n",
      " 2   gmap_id           275001 non-null  object \n",
      " 3   description       27900 non-null   object \n",
      " 4   latitude          275001 non-null  float64\n",
      " 5   longitude         275001 non-null  float64\n",
      " 6   category          273662 non-null  object \n",
      " 7   avg_rating        275001 non-null  float64\n",
      " 8   num_of_reviews    275001 non-null  int64  \n",
      " 9   price             31139 non-null   object \n",
      " 10  hours             210287 non-null  object \n",
      " 11  MISC              221703 non-null  object \n",
      " 12  state             212960 non-null  object \n",
      " 13  relative_results  254406 non-null  object \n",
      " 14  url               275001 non-null  object \n",
      "dtypes: float64(3), int64(1), object(11)\n",
      "memory usage: 31.5+ MB\n"
     ]
    }
   ],
   "source": [
    "dfBusinessGoogle.info()"
   ]
  },
  {
   "cell_type": "code",
   "execution_count": 6,
   "metadata": {},
   "outputs": [
    {
     "name": "stdout",
     "output_type": "stream",
     "text": [
      "name                     5\n",
      "address               5573\n",
      "gmap_id                  0\n",
      "description         247101\n",
      "latitude                 0\n",
      "longitude                0\n",
      "category              1339\n",
      "avg_rating               0\n",
      "num_of_reviews           0\n",
      "price               243862\n",
      "hours                64714\n",
      "MISC                 53298\n",
      "state                62041\n",
      "relative_results     20595\n",
      "url                      0\n",
      "dtype: int64\n"
     ]
    }
   ],
   "source": [
    "# Contar filas vacías por columna\n",
    "filas_vacias_por_columna = dfBusinessGoogle.isnull().sum()\n",
    "print(filas_vacias_por_columna)"
   ]
  },
  {
   "cell_type": "code",
   "execution_count": 7,
   "metadata": {},
   "outputs": [
    {
     "name": "stdout",
     "output_type": "stream",
     "text": [
      "Filas duplicadas en el DataFrame: 0\n"
     ]
    }
   ],
   "source": [
    "# Contar la cantidad de duplicados del DataFrame\n",
    "filas_duplicadas = dfBusinessGoogle.duplicated().sum()\n",
    "print(\"Filas duplicadas en el DataFrame:\", filas_duplicadas)"
   ]
  },
  {
   "cell_type": "markdown",
   "metadata": {},
   "source": [
    "### 3.1.2. Limpieza y Normalización de datos"
   ]
  },
  {
   "cell_type": "markdown",
   "metadata": {},
   "source": [
    "#### Filtrado de datos"
   ]
  },
  {
   "cell_type": "code",
   "execution_count": 8,
   "metadata": {},
   "outputs": [],
   "source": [
    "# El alcance del proyecto se limita a los diferentes negocios \n",
    "# dentro de la categoria 'Nail Salon', por lo que se aplica el filtro.\n",
    "\n",
    "# Eliminar filas con valores NaN en la columna 'categories'\n",
    "dfBusinessGoogle = dfBusinessGoogle.dropna(subset=['category'])\n",
    "\n",
    "# Filtrar las filas que contienen 'Nail Salons' en la columna 'categories'\n",
    "dfBusinessGoogle = dfBusinessGoogle[dfBusinessGoogle['category'].str.contains('Nail salon', na=False)]"
   ]
  },
  {
   "cell_type": "markdown",
   "metadata": {},
   "source": [
    "De limitamos a una franquicia de comida rapida 'Subway'(sandwiches) que hemos puesto como objetivo y delimitador"
   ]
  },
  {
   "cell_type": "code",
   "execution_count": 9,
   "metadata": {},
   "outputs": [],
   "source": [
    "dfBusinessGoogle = dfBusinessGoogle[dfBusinessGoogle['state'] != 'Permanently closed']\n",
    "dfBusinessGoogle = dfBusinessGoogle.drop('state', axis=1) "
   ]
  },
  {
   "cell_type": "markdown",
   "metadata": {},
   "source": [
    "Realizamos un filtro donde solo nos quedamos con los establecimientos que esten activos o en funcionamiento"
   ]
  },
  {
   "cell_type": "code",
   "execution_count": 10,
   "metadata": {},
   "outputs": [],
   "source": [
    "dfBusinessGoogle['city'] = dfBusinessGoogle['address'].str.split(',').str[2]"
   ]
  },
  {
   "cell_type": "markdown",
   "metadata": {},
   "source": [
    "Reemplzamos la Subway por espacio y mediante la funcion split obtenemos los nombres de las ciudades y guardamos en la columna 'city'"
   ]
  },
  {
   "cell_type": "code",
   "execution_count": 11,
   "metadata": {},
   "outputs": [],
   "source": [
    "dfBusinessGoogle['state_PostalCode'] = dfBusinessGoogle['address'].str.split(',').str[3]\n",
    "dfBusinessGoogle['postal_code']=dfBusinessGoogle['state_PostalCode'].str.split(' ').str[2]"
   ]
  },
  {
   "cell_type": "markdown",
   "metadata": {},
   "source": [
    "Mediante la función Split podemos extraer de la columna address los valores de codigo postal que guardamos en la columna 'postal_code'"
   ]
  },
  {
   "cell_type": "code",
   "execution_count": 12,
   "metadata": {},
   "outputs": [],
   "source": [
    "def reverse_geocode(lat, lon):\n",
    "    url = f\"https://nominatim.openstreetmap.org/reverse?format=json&lat={lat}&lon={lon}\"\n",
    "    response = requests.get(url)\n",
    "    data = response.json()\n",
    "    if 'address' in data:\n",
    "        state = data['address'].get('state', '')\n",
    "        return state\n",
    "\n",
    "# Supongamos que dfBusinessGoogle es tu DataFrame y que 'latitude' y 'longitude' son tus columnas\n",
    "dfBusinessGoogle['state'] = dfBusinessGoogle.apply(lambda row: reverse_geocode(row['latitude'], row['longitude']), axis=1)"
   ]
  },
  {
   "cell_type": "markdown",
   "metadata": {},
   "source": [
    "Usando la API OpenStreetMap (OSM) se realizo una geocodificacion inversa que me devuelve los diferentes estados('state') basado en las columnas 'latitude' y 'longitude' "
   ]
  },
  {
   "cell_type": "code",
   "execution_count": 13,
   "metadata": {},
   "outputs": [],
   "source": [
    "dfBusinessGoogle = dfBusinessGoogle.drop('state_PostalCode', axis=1)\n",
    "\n",
    "dfBusinessGoogle = dfBusinessGoogle.drop('description', axis=1)\n",
    "\n",
    "dfBusinessGoogle = dfBusinessGoogle.drop('category', axis=1)\n",
    "\n",
    "dfBusinessGoogle = dfBusinessGoogle.drop('price', axis=1) \n",
    "\n",
    "dfBusinessGoogle = dfBusinessGoogle.drop('relative_results', axis=1)\n",
    "\n",
    "dfBusinessGoogle = dfBusinessGoogle.drop('url', axis=1)\n",
    "\n",
    "dfBusinessGoogle = dfBusinessGoogle.drop('MISC', axis=1)\n"
   ]
  },
  {
   "cell_type": "code",
   "execution_count": 14,
   "metadata": {},
   "outputs": [],
   "source": [
    "dfBusinessGoogle = dfBusinessGoogle.rename(columns={'gmap_id': 'business_id', 'avg_rating': 'stars', 'num_of_reviews': 'review_count'})"
   ]
  },
  {
   "cell_type": "markdown",
   "metadata": {},
   "source": [
    "Renombramos las columnnas para tener los mismos nombres de la tabla Yelp(normalizar) para realizar un mejor analisis de datos"
   ]
  },
  {
   "cell_type": "code",
   "execution_count": 15,
   "metadata": {},
   "outputs": [],
   "source": [
    "# Se creó la columna 'source' con un valor unico 'G' \n",
    "dfBusinessGoogle['source']='G'"
   ]
  },
  {
   "cell_type": "markdown",
   "metadata": {},
   "source": [
    "Se creo la colummna 'source' para identificar la tabla que pertenecen a los datos obtenidos de las tablas Google"
   ]
  },
  {
   "cell_type": "code",
   "execution_count": 16,
   "metadata": {},
   "outputs": [],
   "source": [
    "nuevo_orden_columnas = ['business_id', 'name', 'address', 'city', 'state', 'postal_code', 'latitude', 'longitude', 'stars', 'review_count', 'hours', 'source']\n",
    "\n",
    "dfBusinessGoogle = dfBusinessGoogle[nuevo_orden_columnas]"
   ]
  },
  {
   "cell_type": "code",
   "execution_count": 17,
   "metadata": {},
   "outputs": [
    {
     "data": {
      "text/html": [
       "<div>\n",
       "<style scoped>\n",
       "    .dataframe tbody tr th:only-of-type {\n",
       "        vertical-align: middle;\n",
       "    }\n",
       "\n",
       "    .dataframe tbody tr th {\n",
       "        vertical-align: top;\n",
       "    }\n",
       "\n",
       "    .dataframe thead th {\n",
       "        text-align: right;\n",
       "    }\n",
       "</style>\n",
       "<table border=\"1\" class=\"dataframe\">\n",
       "  <thead>\n",
       "    <tr style=\"text-align: right;\">\n",
       "      <th></th>\n",
       "      <th>business_id</th>\n",
       "      <th>name</th>\n",
       "      <th>address</th>\n",
       "      <th>city</th>\n",
       "      <th>state</th>\n",
       "      <th>postal_code</th>\n",
       "      <th>latitude</th>\n",
       "      <th>longitude</th>\n",
       "      <th>stars</th>\n",
       "      <th>review_count</th>\n",
       "      <th>hours</th>\n",
       "      <th>source</th>\n",
       "    </tr>\n",
       "  </thead>\n",
       "  <tbody>\n",
       "    <tr>\n",
       "      <th>42</th>\n",
       "      <td>0x80dcddb51e362a2f:0xea0942477ad212a6</td>\n",
       "      <td>City nails and spa</td>\n",
       "      <td>City nails and spa, 4250 Barranca Pkwy n1, Irv...</td>\n",
       "      <td>Irvine</td>\n",
       "      <td>California</td>\n",
       "      <td>92604</td>\n",
       "      <td>33.681278</td>\n",
       "      <td>-117.804961</td>\n",
       "      <td>4.2</td>\n",
       "      <td>48</td>\n",
       "      <td>[['Tuesday', '9:30AM–7PM'], ['Wednesday', '9:3...</td>\n",
       "      <td>G</td>\n",
       "    </tr>\n",
       "    <tr>\n",
       "      <th>194</th>\n",
       "      <td>0x8830f12316ab98f5:0xaeb4263777ba0bb</td>\n",
       "      <td>Gaia Nail Lounge &amp; Spa</td>\n",
       "      <td>Gaia Nail Lounge &amp; Spa, 1870 W 25th St, Clevel...</td>\n",
       "      <td>Cleveland</td>\n",
       "      <td>Ohio</td>\n",
       "      <td>44113</td>\n",
       "      <td>41.485645</td>\n",
       "      <td>-81.704981</td>\n",
       "      <td>4.3</td>\n",
       "      <td>58</td>\n",
       "      <td>[['Tuesday', '11AM–8PM'], ['Wednesday', '11AM–...</td>\n",
       "      <td>G</td>\n",
       "    </tr>\n",
       "    <tr>\n",
       "      <th>205</th>\n",
       "      <td>0x8830fbcda1e07e15:0xf8eb2508d7fd545c</td>\n",
       "      <td>Styles of Success | Hair Salon</td>\n",
       "      <td>Styles of Success | Hair Salon, 6524 St Clair ...</td>\n",
       "      <td>Cleveland</td>\n",
       "      <td>Ohio</td>\n",
       "      <td>44103</td>\n",
       "      <td>41.525441</td>\n",
       "      <td>-81.644494</td>\n",
       "      <td>4.6</td>\n",
       "      <td>147</td>\n",
       "      <td>[['Tuesday', '10AM–6PM'], ['Wednesday', '10AM–...</td>\n",
       "      <td>G</td>\n",
       "    </tr>\n",
       "    <tr>\n",
       "      <th>211</th>\n",
       "      <td>0x8830fdbd99eef30f:0xb69e407e123502d9</td>\n",
       "      <td>Square One Nails</td>\n",
       "      <td>Square One Nails, 13915 Cedar Rd, South Euclid...</td>\n",
       "      <td>South Euclid</td>\n",
       "      <td>Ohio</td>\n",
       "      <td>44118</td>\n",
       "      <td>41.502357</td>\n",
       "      <td>-81.539290</td>\n",
       "      <td>2.9</td>\n",
       "      <td>118</td>\n",
       "      <td>[['Tuesday', '10AM–7PM'], ['Wednesday', '10AM–...</td>\n",
       "      <td>G</td>\n",
       "    </tr>\n",
       "    <tr>\n",
       "      <th>218</th>\n",
       "      <td>0x8830fba741e5d0b1:0x626c4c7ba05e498f</td>\n",
       "      <td>Studio S</td>\n",
       "      <td>Studio S, 850 Euclid Ave #320, Cleveland, OH 4...</td>\n",
       "      <td>Cleveland</td>\n",
       "      <td>Ohio</td>\n",
       "      <td>44114</td>\n",
       "      <td>41.499814</td>\n",
       "      <td>-81.687098</td>\n",
       "      <td>4.6</td>\n",
       "      <td>36</td>\n",
       "      <td>[['Tuesday', 'Closed'], ['Wednesday', 'Closed'...</td>\n",
       "      <td>G</td>\n",
       "    </tr>\n",
       "  </tbody>\n",
       "</table>\n",
       "</div>"
      ],
      "text/plain": [
       "                               business_id                            name  \\\n",
       "42   0x80dcddb51e362a2f:0xea0942477ad212a6              City nails and spa   \n",
       "194   0x8830f12316ab98f5:0xaeb4263777ba0bb          Gaia Nail Lounge & Spa   \n",
       "205  0x8830fbcda1e07e15:0xf8eb2508d7fd545c  Styles of Success | Hair Salon   \n",
       "211  0x8830fdbd99eef30f:0xb69e407e123502d9                Square One Nails   \n",
       "218  0x8830fba741e5d0b1:0x626c4c7ba05e498f                        Studio S   \n",
       "\n",
       "                                               address           city  \\\n",
       "42   City nails and spa, 4250 Barranca Pkwy n1, Irv...         Irvine   \n",
       "194  Gaia Nail Lounge & Spa, 1870 W 25th St, Clevel...      Cleveland   \n",
       "205  Styles of Success | Hair Salon, 6524 St Clair ...      Cleveland   \n",
       "211  Square One Nails, 13915 Cedar Rd, South Euclid...   South Euclid   \n",
       "218  Studio S, 850 Euclid Ave #320, Cleveland, OH 4...      Cleveland   \n",
       "\n",
       "          state postal_code   latitude   longitude  stars  review_count  \\\n",
       "42   California       92604  33.681278 -117.804961    4.2            48   \n",
       "194        Ohio       44113  41.485645  -81.704981    4.3            58   \n",
       "205        Ohio       44103  41.525441  -81.644494    4.6           147   \n",
       "211        Ohio       44118  41.502357  -81.539290    2.9           118   \n",
       "218        Ohio       44114  41.499814  -81.687098    4.6            36   \n",
       "\n",
       "                                                 hours source  \n",
       "42   [['Tuesday', '9:30AM–7PM'], ['Wednesday', '9:3...      G  \n",
       "194  [['Tuesday', '11AM–8PM'], ['Wednesday', '11AM–...      G  \n",
       "205  [['Tuesday', '10AM–6PM'], ['Wednesday', '10AM–...      G  \n",
       "211  [['Tuesday', '10AM–7PM'], ['Wednesday', '10AM–...      G  \n",
       "218  [['Tuesday', 'Closed'], ['Wednesday', 'Closed'...      G  "
      ]
     },
     "execution_count": 17,
     "metadata": {},
     "output_type": "execute_result"
    }
   ],
   "source": [
    "dfBusinessGoogle.head()"
   ]
  },
  {
   "cell_type": "code",
   "execution_count": 18,
   "metadata": {},
   "outputs": [
    {
     "name": "stdout",
     "output_type": "stream",
     "text": [
      "<class 'pandas.core.frame.DataFrame'>\n",
      "Index: 4350 entries, 42 to 274928\n",
      "Data columns (total 12 columns):\n",
      " #   Column        Non-Null Count  Dtype  \n",
      "---  ------        --------------  -----  \n",
      " 0   business_id   4350 non-null   object \n",
      " 1   name          4350 non-null   object \n",
      " 2   address       4346 non-null   object \n",
      " 3   city          4346 non-null   object \n",
      " 4   state         4350 non-null   object \n",
      " 5   postal_code   4214 non-null   object \n",
      " 6   latitude      4350 non-null   float64\n",
      " 7   longitude     4350 non-null   float64\n",
      " 8   stars         4350 non-null   float64\n",
      " 9   review_count  4350 non-null   int64  \n",
      " 10  hours         4073 non-null   object \n",
      " 11  source        4350 non-null   object \n",
      "dtypes: float64(3), int64(1), object(8)\n",
      "memory usage: 441.8+ KB\n"
     ]
    }
   ],
   "source": [
    "dfBusinessGoogle.info()"
   ]
  },
  {
   "cell_type": "markdown",
   "metadata": {},
   "source": [
    "## 3.2 Dataset Reviews Google"
   ]
  },
  {
   "cell_type": "markdown",
   "metadata": {},
   "source": [
    "### 3.2.1. Exploración inicial de los datos"
   ]
  },
  {
   "cell_type": "code",
   "execution_count": 19,
   "metadata": {},
   "outputs": [
    {
     "data": {
      "text/html": [
       "<div>\n",
       "<style scoped>\n",
       "    .dataframe tbody tr th:only-of-type {\n",
       "        vertical-align: middle;\n",
       "    }\n",
       "\n",
       "    .dataframe tbody tr th {\n",
       "        vertical-align: top;\n",
       "    }\n",
       "\n",
       "    .dataframe thead th {\n",
       "        text-align: right;\n",
       "    }\n",
       "</style>\n",
       "<table border=\"1\" class=\"dataframe\">\n",
       "  <thead>\n",
       "    <tr style=\"text-align: right;\">\n",
       "      <th></th>\n",
       "      <th>user_id</th>\n",
       "      <th>name</th>\n",
       "      <th>time</th>\n",
       "      <th>rating</th>\n",
       "      <th>text</th>\n",
       "      <th>pics</th>\n",
       "      <th>resp</th>\n",
       "      <th>gmap_id</th>\n",
       "    </tr>\n",
       "  </thead>\n",
       "  <tbody>\n",
       "    <tr>\n",
       "      <th>0</th>\n",
       "      <td>1.183560e+20</td>\n",
       "      <td>Vicki Ullery</td>\n",
       "      <td>1628718071358</td>\n",
       "      <td>5</td>\n",
       "      <td>Gwen was so informative and made me feel comfo...</td>\n",
       "      <td>NaN</td>\n",
       "      <td>NaN</td>\n",
       "      <td>0x872b5dae3c5fcfa7:0xf0f8b286a2537821</td>\n",
       "    </tr>\n",
       "    <tr>\n",
       "      <th>1</th>\n",
       "      <td>1.126523e+20</td>\n",
       "      <td>Doc Kovacs</td>\n",
       "      <td>1609796129431</td>\n",
       "      <td>5</td>\n",
       "      <td>Dr. Huyhn is an ethical skilled dentist. Her s...</td>\n",
       "      <td>NaN</td>\n",
       "      <td>NaN</td>\n",
       "      <td>0x872b5dae3c5fcfa7:0xf0f8b286a2537821</td>\n",
       "    </tr>\n",
       "    <tr>\n",
       "      <th>2</th>\n",
       "      <td>1.089879e+20</td>\n",
       "      <td>Pedro Diaz</td>\n",
       "      <td>1594225668169</td>\n",
       "      <td>1</td>\n",
       "      <td>Not sure if one star is fair but my situation ...</td>\n",
       "      <td>NaN</td>\n",
       "      <td>NaN</td>\n",
       "      <td>0x872b5dae3c5fcfa7:0xf0f8b286a2537821</td>\n",
       "    </tr>\n",
       "    <tr>\n",
       "      <th>3</th>\n",
       "      <td>1.069277e+20</td>\n",
       "      <td>Brandon Ray</td>\n",
       "      <td>1622676189509</td>\n",
       "      <td>5</td>\n",
       "      <td>Best dentist office I've ever had. Love everyt...</td>\n",
       "      <td>NaN</td>\n",
       "      <td>NaN</td>\n",
       "      <td>0x872b5dae3c5fcfa7:0xf0f8b286a2537821</td>\n",
       "    </tr>\n",
       "    <tr>\n",
       "      <th>4</th>\n",
       "      <td>1.090535e+20</td>\n",
       "      <td>T. Bennett</td>\n",
       "      <td>1434829263041</td>\n",
       "      <td>5</td>\n",
       "      <td>I've been coming to Oasis dentistry for a whil...</td>\n",
       "      <td>NaN</td>\n",
       "      <td>NaN</td>\n",
       "      <td>0x872b5dae3c5fcfa7:0xf0f8b286a2537821</td>\n",
       "    </tr>\n",
       "  </tbody>\n",
       "</table>\n",
       "</div>"
      ],
      "text/plain": [
       "        user_id          name           time  rating  \\\n",
       "0  1.183560e+20  Vicki Ullery  1628718071358       5   \n",
       "1  1.126523e+20    Doc Kovacs  1609796129431       5   \n",
       "2  1.089879e+20    Pedro Diaz  1594225668169       1   \n",
       "3  1.069277e+20   Brandon Ray  1622676189509       5   \n",
       "4  1.090535e+20    T. Bennett  1434829263041       5   \n",
       "\n",
       "                                                text pics resp  \\\n",
       "0  Gwen was so informative and made me feel comfo...  NaN  NaN   \n",
       "1  Dr. Huyhn is an ethical skilled dentist. Her s...  NaN  NaN   \n",
       "2  Not sure if one star is fair but my situation ...  NaN  NaN   \n",
       "3  Best dentist office I've ever had. Love everyt...  NaN  NaN   \n",
       "4  I've been coming to Oasis dentistry for a whil...  NaN  NaN   \n",
       "\n",
       "                                 gmap_id  \n",
       "0  0x872b5dae3c5fcfa7:0xf0f8b286a2537821  \n",
       "1  0x872b5dae3c5fcfa7:0xf0f8b286a2537821  \n",
       "2  0x872b5dae3c5fcfa7:0xf0f8b286a2537821  \n",
       "3  0x872b5dae3c5fcfa7:0xf0f8b286a2537821  \n",
       "4  0x872b5dae3c5fcfa7:0xf0f8b286a2537821  "
      ]
     },
     "execution_count": 19,
     "metadata": {},
     "output_type": "execute_result"
    }
   ],
   "source": [
    "#Vizualizo las primeras filas del DataFrame\n",
    "dfReviewGoogle.head()"
   ]
  },
  {
   "cell_type": "code",
   "execution_count": 20,
   "metadata": {},
   "outputs": [
    {
     "name": "stdout",
     "output_type": "stream",
     "text": [
      "<class 'pandas.core.frame.DataFrame'>\n",
      "RangeIndex: 10792020 entries, 0 to 10792019\n",
      "Data columns (total 8 columns):\n",
      " #   Column   Dtype  \n",
      "---  ------   -----  \n",
      " 0   user_id  float64\n",
      " 1   name     object \n",
      " 2   time     int64  \n",
      " 3   rating   int64  \n",
      " 4   text     object \n",
      " 5   pics     object \n",
      " 6   resp     object \n",
      " 7   gmap_id  object \n",
      "dtypes: float64(1), int64(2), object(5)\n",
      "memory usage: 658.7+ MB\n"
     ]
    }
   ],
   "source": [
    "dfReviewGoogle.info()"
   ]
  },
  {
   "cell_type": "code",
   "execution_count": 21,
   "metadata": {},
   "outputs": [
    {
     "name": "stdout",
     "output_type": "stream",
     "text": [
      "user_id           0\n",
      "name            115\n",
      "time              0\n",
      "rating            0\n",
      "text        4429627\n",
      "pics       10409585\n",
      "resp        9488684\n",
      "gmap_id           0\n",
      "dtype: int64\n"
     ]
    }
   ],
   "source": [
    "# Contar filas vacías por columna\n",
    "filas_vacias_por_columna = dfReviewGoogle.isnull().sum()\n",
    "print(filas_vacias_por_columna)"
   ]
  },
  {
   "cell_type": "markdown",
   "metadata": {},
   "source": [
    "Observamos que tenemos varias columnas con muchos valores nulos, vamos observando con que columnas podemos trabajar"
   ]
  },
  {
   "cell_type": "code",
   "execution_count": 22,
   "metadata": {},
   "outputs": [
    {
     "name": "stdout",
     "output_type": "stream",
     "text": [
      "Filas duplicadas en el DataFrame: 199018\n"
     ]
    }
   ],
   "source": [
    "# Contar la cantidad de duplicados del DataFrame\n",
    "filas_duplicadas = dfReviewGoogle.duplicated().sum()\n",
    "print(\"Filas duplicadas en el DataFrame:\", filas_duplicadas)"
   ]
  },
  {
   "cell_type": "code",
   "execution_count": 41,
   "metadata": {},
   "outputs": [
    {
     "name": "stdout",
     "output_type": "stream",
     "text": [
      "Filas duplicadas:\n",
      "               user_id                name  \\\n",
      "1539373   1.030571e+20               Jus C   \n",
      "1539378   1.067648e+20         sportsdocaz   \n",
      "1539390   1.140847e+20    Victoria Baumann   \n",
      "1539453   1.152130e+20         AJ Goodroad   \n",
      "1539560   1.165358e+20        Zother Onez2   \n",
      "...                ...                 ...   \n",
      "10373676  1.158848e+20       A.D. Ferguson   \n",
      "10378671  1.021558e+20        Simon Mujica   \n",
      "10378676  1.177352e+20        Aisha Walker   \n",
      "10381067  1.094389e+20  Brenda9192 Domingo   \n",
      "10381070  1.021314e+20       Amberly Rhodd   \n",
      "\n",
      "                                    business_id  review_stars  \\\n",
      "1539373   0x872b626d7dc99bf9:0xf7ea9221b5343866           5.0   \n",
      "1539378   0x872b626d7dc99bf9:0xf7ea9221b5343866           1.0   \n",
      "1539390   0x872b626d7dc99bf9:0xf7ea9221b5343866           5.0   \n",
      "1539453   0x872b634486bf519f:0xeb4cca161bd506cd           5.0   \n",
      "1539560   0x86d5e1b2313ba265:0xb6a0838b5cb9a057           5.0   \n",
      "...                                         ...           ...   \n",
      "10373676  0x54910b95d8a2e705:0x6c6447c6f725f278           5.0   \n",
      "10378671  0x5491035da9ab67e9:0xdc39feeab4ef9746           1.0   \n",
      "10378676  0x5491035da9ab67e9:0xdc39feeab4ef9746           1.0   \n",
      "10381067  0x5490feaa185f3d0b:0x52a59be6eab2a677           1.0   \n",
      "10381070  0x5490feaa185f3d0b:0x52a59be6eab2a677           5.0   \n",
      "\n",
      "                                                       text  \\\n",
      "1539373   love this place! they have a great selection o...   \n",
      "1539378   i have been to this location many times with m...   \n",
      "1539390                                love the experience!   \n",
      "1539453   andy is amazing and i always love my nails! on...   \n",
      "1539560   this was a great place to get a pedicure for a...   \n",
      "...                                                     ...   \n",
      "10373676  very nice salon.  efficient and they did a gre...   \n",
      "10378671  they want to be tipped in cash only, you know,...   \n",
      "10378676  i wish i could give them a zero. i was discrim...   \n",
      "10381067  the worst fill i’ve had looks like i’ve had it...   \n",
      "10381070                           this place is phenomenal   \n",
      "\n",
      "                            date  \n",
      "1539373  2019-10-24 20:11:36.726  \n",
      "1539378  2019-06-30 21:25:13.189  \n",
      "1539390  2019-06-14 15:48:20.734  \n",
      "1539453  2020-02-18 06:44:43.869  \n",
      "1539560  2018-10-15 04:57:43.895  \n",
      "...                          ...  \n",
      "10373676 2019-07-19 17:17:48.974  \n",
      "10378671 2020-02-17 23:29:45.859  \n",
      "10378676 2017-07-15 18:21:35.322  \n",
      "10381067 2018-10-31 15:48:14.174  \n",
      "10381070 2019-06-08 07:04:10.326  \n",
      "\n",
      "[174 rows x 6 columns]\n"
     ]
    }
   ],
   "source": [
    "# Identificar las filas duplicadas en el DataFrame dfReviewGoogle\n",
    "filas_duplicadas = dfReviewGoogle[dfReviewGoogle.duplicated()]\n",
    "\n",
    "# Mostrar las filas duplicadas\n",
    "print(\"Filas duplicadas:\")\n",
    "print(filas_duplicadas)"
   ]
  },
  {
   "cell_type": "markdown",
   "metadata": {},
   "source": [
    "Observamos muchas filas duplicadas, pero tenemos que corrobarar con el filtro de codigo de bussines y continuaremos"
   ]
  },
  {
   "cell_type": "markdown",
   "metadata": {},
   "source": [
    "### 3.2.2. Limpieza y Normalización de datos"
   ]
  },
  {
   "cell_type": "markdown",
   "metadata": {},
   "source": [
    "Filtrado de datos"
   ]
  },
  {
   "cell_type": "code",
   "execution_count": 23,
   "metadata": {},
   "outputs": [],
   "source": [
    "# Obtener los id únicos del DataFrame dfbusinessYelp\n",
    "business_ids_to_keep = dfBusinessGoogle['business_id'].unique()\n",
    "\n",
    "# Friltamos el dfreviewYelp basado en los balores unico de lao id de dfbusinessYelp\n",
    "dfReviewGoogle = dfReviewGoogle[dfReviewGoogle['gmap_id'].isin(business_ids_to_keep)]\n"
   ]
  },
  {
   "cell_type": "markdown",
   "metadata": {},
   "source": [
    "Aplicamos un filtro solo para quedarnos con los valores que coincidan con el id del negocio"
   ]
  },
  {
   "cell_type": "code",
   "execution_count": 24,
   "metadata": {},
   "outputs": [],
   "source": [
    "# Convertir la columna 'time' de int64 a datetime\n",
    "dfReviewGoogle['time'] = pd.to_datetime(dfReviewGoogle['time'], unit='ms')"
   ]
  },
  {
   "cell_type": "markdown",
   "metadata": {},
   "source": [
    "La columna 'time' tiene un forma o tipo de dato int y lo transforme en DateTime"
   ]
  },
  {
   "cell_type": "code",
   "execution_count": 25,
   "metadata": {},
   "outputs": [],
   "source": [
    "columnas_a_eliminar = ['pics', 'resp']\n",
    "\n",
    "# Eliminar las columnas especificadas\n",
    "dfReviewGoogle = dfReviewGoogle.drop(columnas_a_eliminar, axis=1)"
   ]
  },
  {
   "cell_type": "code",
   "execution_count": 26,
   "metadata": {},
   "outputs": [],
   "source": [
    "# Aplicar la limpieza de texto directamente sobre la columna 'text'\n",
    "dfReviewGoogle['text'] = dfReviewGoogle['text'].str.lower().str.replace(r'[^a-z0-9\\s]', '')"
   ]
  },
  {
   "cell_type": "code",
   "execution_count": 27,
   "metadata": {},
   "outputs": [],
   "source": [
    "# Modificamos el tipo de dato a un valor flotante\n",
    "dfReviewGoogle['rating'] = dfReviewGoogle['rating'].astype('float64')"
   ]
  },
  {
   "cell_type": "code",
   "execution_count": 28,
   "metadata": {},
   "outputs": [],
   "source": [
    "dfReviewGoogle = dfReviewGoogle.rename(columns={'gmap_id': 'business_id', 'rating': 'review_stars'})"
   ]
  },
  {
   "cell_type": "code",
   "execution_count": 34,
   "metadata": {},
   "outputs": [],
   "source": [
    "dfReviewGoogle = dfReviewGoogle.rename(columns={'time': 'date'})"
   ]
  },
  {
   "cell_type": "code",
   "execution_count": 36,
   "metadata": {},
   "outputs": [],
   "source": [
    "nuevo_orden_columnas = ['user_id','name', 'business_id', 'review_stars', 'text', 'date']\n",
    "dfReviewGoogle = dfReviewGoogle[nuevo_orden_columnas]"
   ]
  },
  {
   "cell_type": "code",
   "execution_count": null,
   "metadata": {},
   "outputs": [],
   "source": [
    "dfReviewGoogle['source']='G'"
   ]
  },
  {
   "cell_type": "code",
   "execution_count": null,
   "metadata": {},
   "outputs": [
    {
     "data": {
      "text/html": [
       "<div>\n",
       "<style scoped>\n",
       "    .dataframe tbody tr th:only-of-type {\n",
       "        vertical-align: middle;\n",
       "    }\n",
       "\n",
       "    .dataframe tbody tr th {\n",
       "        vertical-align: top;\n",
       "    }\n",
       "\n",
       "    .dataframe thead th {\n",
       "        text-align: right;\n",
       "    }\n",
       "</style>\n",
       "<table border=\"1\" class=\"dataframe\">\n",
       "  <thead>\n",
       "    <tr style=\"text-align: right;\">\n",
       "      <th></th>\n",
       "      <th>user_id</th>\n",
       "      <th>business_id</th>\n",
       "      <th>stars</th>\n",
       "      <th>text</th>\n",
       "      <th>year</th>\n",
       "      <th>month</th>\n",
       "      <th>day</th>\n",
       "      <th>source</th>\n",
       "    </tr>\n",
       "  </thead>\n",
       "  <tbody>\n",
       "    <tr>\n",
       "      <th>1538921</th>\n",
       "      <td>1.062874e+20</td>\n",
       "      <td>0x872b1129edb01139:0xdf5a1677919571fd</td>\n",
       "      <td>1.0</td>\n",
       "      <td>one star is too much for this place\\n2 months ...</td>\n",
       "      <td>2020</td>\n",
       "      <td>9</td>\n",
       "      <td>18</td>\n",
       "      <td>G</td>\n",
       "    </tr>\n",
       "    <tr>\n",
       "      <th>1538922</th>\n",
       "      <td>1.112756e+20</td>\n",
       "      <td>0x872b1129edb01139:0xdf5a1677919571fd</td>\n",
       "      <td>1.0</td>\n",
       "      <td>the girls were patient and friendly but how do...</td>\n",
       "      <td>2020</td>\n",
       "      <td>11</td>\n",
       "      <td>23</td>\n",
       "      <td>G</td>\n",
       "    </tr>\n",
       "    <tr>\n",
       "      <th>1538923</th>\n",
       "      <td>1.083110e+20</td>\n",
       "      <td>0x872b1129edb01139:0xdf5a1677919571fd</td>\n",
       "      <td>1.0</td>\n",
       "      <td>every  thing  looks  bad  pickles spinach  tun...</td>\n",
       "      <td>2021</td>\n",
       "      <td>6</td>\n",
       "      <td>2</td>\n",
       "      <td>G</td>\n",
       "    </tr>\n",
       "    <tr>\n",
       "      <th>1538924</th>\n",
       "      <td>1.006935e+20</td>\n",
       "      <td>0x872b1129edb01139:0xdf5a1677919571fd</td>\n",
       "      <td>1.0</td>\n",
       "      <td>dirty subway. don't waste your money here. i w...</td>\n",
       "      <td>2020</td>\n",
       "      <td>1</td>\n",
       "      <td>31</td>\n",
       "      <td>G</td>\n",
       "    </tr>\n",
       "    <tr>\n",
       "      <th>1538925</th>\n",
       "      <td>1.126158e+20</td>\n",
       "      <td>0x872b1129edb01139:0xdf5a1677919571fd</td>\n",
       "      <td>2.0</td>\n",
       "      <td>i ordered 5 ft longs online. 10 minus after my...</td>\n",
       "      <td>2020</td>\n",
       "      <td>8</td>\n",
       "      <td>8</td>\n",
       "      <td>G</td>\n",
       "    </tr>\n",
       "  </tbody>\n",
       "</table>\n",
       "</div>"
      ],
      "text/plain": [
       "              user_id                            business_id  stars  \\\n",
       "1538921  1.062874e+20  0x872b1129edb01139:0xdf5a1677919571fd    1.0   \n",
       "1538922  1.112756e+20  0x872b1129edb01139:0xdf5a1677919571fd    1.0   \n",
       "1538923  1.083110e+20  0x872b1129edb01139:0xdf5a1677919571fd    1.0   \n",
       "1538924  1.006935e+20  0x872b1129edb01139:0xdf5a1677919571fd    1.0   \n",
       "1538925  1.126158e+20  0x872b1129edb01139:0xdf5a1677919571fd    2.0   \n",
       "\n",
       "                                                      text  year  month  day  \\\n",
       "1538921  one star is too much for this place\\n2 months ...  2020      9   18   \n",
       "1538922  the girls were patient and friendly but how do...  2020     11   23   \n",
       "1538923  every  thing  looks  bad  pickles spinach  tun...  2021      6    2   \n",
       "1538924  dirty subway. don't waste your money here. i w...  2020      1   31   \n",
       "1538925  i ordered 5 ft longs online. 10 minus after my...  2020      8    8   \n",
       "\n",
       "        source  \n",
       "1538921      G  \n",
       "1538922      G  \n",
       "1538923      G  \n",
       "1538924      G  \n",
       "1538925      G  "
      ]
     },
     "execution_count": 18,
     "metadata": {},
     "output_type": "execute_result"
    }
   ],
   "source": [
    "dfReviewGoogle.head()"
   ]
  },
  {
   "cell_type": "markdown",
   "metadata": {},
   "source": [
    "## 4. Union y Almacenamiento de Datos"
   ]
  },
  {
   "cell_type": "code",
   "execution_count": 37,
   "metadata": {},
   "outputs": [],
   "source": [
    "dfReviewGoogle.to_csv('DataSets/Cleaned_Review_G.csv', index = False)\n"
   ]
  },
  {
   "cell_type": "code",
   "execution_count": 30,
   "metadata": {},
   "outputs": [],
   "source": [
    "dfBusinessGoogle.to_csv('DataSets/Cleaned_Business_G.csv', index=False)"
   ]
  },
  {
   "cell_type": "code",
   "execution_count": 38,
   "metadata": {},
   "outputs": [
    {
     "name": "stdout",
     "output_type": "stream",
     "text": [
      "Filas duplicadas en el DataFrame: 174\n"
     ]
    }
   ],
   "source": [
    "# Contar la cantidad de duplicados del DataFrame\n",
    "filas_duplicadas = dfReviewGoogle.duplicated().sum()\n",
    "print(\"Filas duplicadas en el DataFrame:\", filas_duplicadas)"
   ]
  },
  {
   "cell_type": "code",
   "execution_count": 40,
   "metadata": {},
   "outputs": [
    {
     "data": {
      "text/plain": [
       "(9435, 6)"
      ]
     },
     "execution_count": 40,
     "metadata": {},
     "output_type": "execute_result"
    }
   ],
   "source": [
    "dfReviewGoogle.shape"
   ]
  },
  {
   "cell_type": "code",
   "execution_count": 39,
   "metadata": {},
   "outputs": [
    {
     "name": "stdout",
     "output_type": "stream",
     "text": [
      "Tamaño del DataFrame después de eliminar duplicados: (9261, 6)\n"
     ]
    }
   ],
   "source": [
    "# Eliminar filas duplicadas en el DataFrame dfReviewGoogle\n",
    "dfReviewGoogle_sin_duplicados = dfReviewGoogle.drop_duplicates()\n",
    "\n",
    "# Verificar el nuevo tamaño del DataFrame después de eliminar duplicados\n",
    "print(\"Tamaño del DataFrame después de eliminar duplicados:\", dfReviewGoogle_sin_duplicados.shape)"
   ]
  },
  {
   "cell_type": "code",
   "execution_count": null,
   "metadata": {},
   "outputs": [],
   "source": []
  }
 ],
 "metadata": {
  "kernelspec": {
   "display_name": "PF",
   "language": "python",
   "name": "python3"
  },
  "language_info": {
   "codemirror_mode": {
    "name": "ipython",
    "version": 3
   },
   "file_extension": ".py",
   "mimetype": "text/x-python",
   "name": "python",
   "nbconvert_exporter": "python",
   "pygments_lexer": "ipython3",
   "version": "3.11.8"
  }
 },
 "nbformat": 4,
 "nbformat_minor": 2
}
